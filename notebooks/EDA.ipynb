{
 "cells": [
  {
   "cell_type": "markdown",
   "metadata": {},
   "source": [
    "### Exploratory Data Analysis\n",
    "This notebook shows how the data looks like and how to work with it. <br><br>\n",
    "Two data sources are used: <br>\n",
    "- vacancies_large.json\n",
    "- [flexible_orange_v2.txt](https://github.com/cltl/AgeDiscriminationBaseline/blob/master/patterns/flexible_orange_v2.txt) <br>"
   ]
  },
  {
   "cell_type": "code",
   "execution_count": 1,
   "metadata": {},
   "outputs": [],
   "source": [
    "# import libs\n",
    "import pandas as pd\n",
    "import numpy as np\n",
    "import json\n",
    "import re"
   ]
  },
  {
   "cell_type": "code",
   "execution_count": 9,
   "metadata": {},
   "outputs": [],
   "source": [
    "Example_text = \"Ben jij student? Wil je wat bijverdienen naast je studie ? Kom dan bij ons werken en meld je aan. Maakt niet uit of je nog op school zit. Dit is voor een bijbaan na schooltijd. Je krijgt een normaal salaris. \\nFront-end ontwikkelaar senior\\nPublicatietitel\\nMedewerker Beheer informatie & Systemen\\nGenerieke functienaam *\\nMedewerker Techniek C (10)\\nSchaal\\n10\\nWerk- en denkniveau\\nHBO\\nVakgebied\\nIT / Data\\nAantal fte\\n3\\nAantal uur per week\\nMinimaal\\n32\\nMaximaal\\n36\\nWerklocatie *\\nJan van Galenstraat, 323, 1056CH, AMSTERDAM\\nWordt onder leiding en toezicht aangevraagd *\\nJa\\nDe functie en opsomming werkzaamheden\\nZekerstellen dat de continuïteit van de dienstverlening en werkprocessen van de uitvoerende afdelingen van WPI (in het bijzonder Handhaving, de Scanteams  en RVE Armoedevoorzieningen) maar ook het Contact Centrum Amsterdam (DVL CCA) en hun informatievoorziening, in 2017 en daarna is gewaarborgd door het continueren van het onderhoud van de specialistische applicaties Cuupweb en/of Bermod en Herber Web en/of de applicaties Sherlock, Digiform, FB Tools en de Focus suite.. \\n\\nAls ontwikkelaar houd je je bezig met:\\n• Het ontwikkelen van uitbreidingen binnen bestaande programmatuur\\n• Het opstellen van (technische) documentatie\\n• Het vertalen van functionele gebruikerseisen naar een technisch conceptueel en goed werkend model\\n• Het bewaken van architectuur en het opzetten van programmeerrichtlijnen\\nBetreft het hier een resultaatverplichting of een inspanningsverplichting?\\nInspanningsverplichting\\nEisen en wensen\\nEisen:\\n• De kandidaat beschikt minimaal over HBO werk- en denkniveau richting ICT. Dit werk- en denkniveau en de richting van de HBO opleiding dienen duidelijk te zijn beschreven in het cv.\\n• De kandidaat is Microsoft Certified Professional Developer (MCPD) of is van aantoonbaar vergelijkbaar niveau. \\n• Tevens heeft kandidaat uitgebreide kennis van de structuur van Oracle 9i, 10g of 11g-databases respectievelijk ruime recente ervaring in het werken \\n• De kandidaat heeft minimaal 5 jaar recente kennis en ervaring in programmeren in de programmeertalen ASP.net en ASP classic  \\n\\nWensen:\\n• De kandidaat heeft kennis van het werkveld rondom de Armoedevoorzieningen Amsterdam en dienstverlening gemeente Amsterdam.\\n• Kennis van, en werkervaring met de applicaties Cuup Web en/of  Bermod en Herber Web en/of applicaties Focus, Scanhulp, Digiform en FB Tools\\n• Kennis van werkprocessen rondom de Armoedevoorzieningen:  Scholierenvergoeding, Reiskostenvergoeding, Gratis OV voor ouderen, Gratis laptop voor kinderen, Individuele Inkomenstoeslag, Passende huur en/of werkprocessen rondom Handhaving WPI\\nCompetentie 1\\nAnalytisch vermogen\\nNiveau competentie 1\\nGevorderd\\nCompetentie 2\\nOmgevingsbewustzijn\\nNiveau competentie 2\\nGevorderd\\nCompetentie 3\\nKlantgerichtheid\\nNiveau competentie 3\\nGevorderd\\nCompetentie 4\\nSamenwerken\\nNiveau competentie 4\\nGevorderd\\nCompetentie 5\\nResultaatgerichtheid\\nNiveau competentie 5\\nGevorderd\\nCompetentie 6\\nVerantwoordelijkheid\\nNiveau competentie 6\\nBasis\\nMarktplaats vanaf schaal 10\\nStartdatum\\n\\nEinddatum\\n\\nMogelijkheid tot verlenging\\nNee\\nReden capaciteitsaanvraag\\nSpecifieke kennis of expertise\\nZijn de werkzaamheden incidenteel of vast?\\nIncidenteel\\nSoort uurtarief\\nvast tarief\\nUurtarief\\n€100,00\\nPlanning (interviews)\\neind juni /begin juli\\nAfdelingsinformatie en informatie over procedure/planning\\nOntwikkelaars (3FTE)\\nMedewerker Beheer informatie & Systemen\\nBovenkant formulier\\nBen je de primaire contactpersoon voor deze aanvraag?\\nNee\\nPrimaire contactpersoon\\nSmit, Novita (novita.smit@amsterdam.nl)\\nPrimaire contactpersoon functienaam\\nPrimaire contactpersoon telefoon\\nBudgethouder roepnaam\\nBudgethouder tussenvoegsel\\nBudgethouder achternaam\\nBudgethouder e-mailadres\\nDienen er nog meer collega's op de hoogte te worden gehouden of toegang te hebben tot deze aanvraag?\\nJa\\nSecundaire contactpersoon 1\\nSmit, Novita (novita.smit@amsterdam.nl)\\nSecundaire contactpersoon 2\\nDe directie-directeur, stadsdeelsecretaris of B&O-directeur akkoord *\\nJa\\nNaam directie-directeur, stadsdeelsecretaris of B&O-directeur *\\nLiesbeth Pot\\nHeeft de business controller positief advies gegeven?\\nJa\\nAdvies business controller\\nHeeft de P&O-adviseur positief advies gegeven?\\nJa\\nAdvies van P&O-adviseur\\nWe vertrouwen erop dat de financieen goed komen.  Xanne Cook - 19-05-2021\\nOnderkant formulier\\n\""
   ]
  },
  {
   "cell_type": "code",
   "execution_count": 2,
   "metadata": {},
   "outputs": [],
   "source": [
    "# concatenate all txt files with regex patterns\n",
    "filenames = ['../data/flexible_red_v2.txt', '../data/conditional_justifications.txt', '../data/flexible_orange_v2.txt', '../data/justifications_v2.txt', '../data/strict_orange_v2.txt', '../data/strict_red_v2.txt']\n",
    "with open('../data/regex_list.txt', 'w') as outfile:\n",
    "    for fname in filenames:\n",
    "        with open(fname) as infile:\n",
    "            outfile.write(infile.read())"
   ]
  },
  {
   "cell_type": "code",
   "execution_count": 14,
   "metadata": {},
   "outputs": [],
   "source": [
    "clean_list = [\"\\n\",\"*\\n\", \"*\",\"•\"]"
   ]
  },
  {
   "cell_type": "code",
   "execution_count": 19,
   "metadata": {},
   "outputs": [
    {
     "name": "stdout",
     "output_type": "stream",
     "text": [
      "Ben jij student? Wil je wat bijverdienen naast je studie ? Kom dan bij ons werken en meld je aan. Maakt niet uit of je nog op school zit. Dit is voor een bijbaan na schooltijd. Je krijgt een normaal salaris.  Front-end ontwikkelaar senior Publicatietitel Medewerker Beheer informatie & Systemen Generieke functienaam   Medewerker Techniek C (10) Schaal 10 Werk- en denkniveau HBO Vakgebied IT / Data Aantal fte 3 Aantal uur per week Minimaal 32 Maximaal 36 Werklocatie   Jan van Galenstraat, 323, 1056CH, AMSTERDAM Wordt onder leiding en toezicht aangevraagd   Ja De functie en opsomming werkzaamheden Zekerstellen dat de continuïteit van de dienstverlening en werkprocessen van de uitvoerende afdelingen van WPI (in het bijzonder Handhaving, de Scanteams  en RVE Armoedevoorzieningen) maar ook het Contact Centrum Amsterdam (DVL CCA) en hun informatievoorziening, in 2017 en daarna is gewaarborgd door het continueren van het onderhoud van de specialistische applicaties Cuupweb en/of Bermod en Herber Web en/of de applicaties Sherlock, Digiform, FB Tools en de Focus suite..   Als ontwikkelaar houd je je bezig met: • Het ontwikkelen van uitbreidingen binnen bestaande programmatuur • Het opstellen van (technische) documentatie • Het vertalen van functionele gebruikerseisen naar een technisch conceptueel en goed werkend model • Het bewaken van architectuur en het opzetten van programmeerrichtlijnen Betreft het hier een resultaatverplichting of een inspanningsverplichting? Inspanningsverplichting Eisen en wensen Eisen: • De kandidaat beschikt minimaal over HBO werk- en denkniveau richting ICT. Dit werk- en denkniveau en de richting van de HBO opleiding dienen duidelijk te zijn beschreven in het cv. • De kandidaat is Microsoft Certified Professional Developer (MCPD) of is van aantoonbaar vergelijkbaar niveau.  • Tevens heeft kandidaat uitgebreide kennis van de structuur van Oracle 9i, 10g of 11g-databases respectievelijk ruime recente ervaring in het werken  • De kandidaat heeft minimaal 5 jaar recente kennis en ervaring in programmeren in de programmeertalen ASP.net en ASP classic    Wensen: • De kandidaat heeft kennis van het werkveld rondom de Armoedevoorzieningen Amsterdam en dienstverlening gemeente Amsterdam. • Kennis van, en werkervaring met de applicaties Cuup Web en/of  Bermod en Herber Web en/of applicaties Focus, Scanhulp, Digiform en FB Tools • Kennis van werkprocessen rondom de Armoedevoorzieningen:  Scholierenvergoeding, Reiskostenvergoeding, Gratis OV voor ouderen, Gratis laptop voor kinderen, Individuele Inkomenstoeslag, Passende huur en/of werkprocessen rondom Handhaving WPI Competentie 1 Analytisch vermogen Niveau competentie 1 Gevorderd Competentie 2 Omgevingsbewustzijn Niveau competentie 2 Gevorderd Competentie 3 Klantgerichtheid Niveau competentie 3 Gevorderd Competentie 4 Samenwerken Niveau competentie 4 Gevorderd Competentie 5 Resultaatgerichtheid Niveau competentie 5 Gevorderd Competentie 6 Verantwoordelijkheid Niveau competentie 6 Basis Marktplaats vanaf schaal 10 Startdatum  Einddatum  Mogelijkheid tot verlenging Nee Reden capaciteitsaanvraag Specifieke kennis of expertise Zijn de werkzaamheden incidenteel of vast? Incidenteel Soort uurtarief vast tarief Uurtarief €100,00 Planning (interviews) eind juni /begin juli Afdelingsinformatie en informatie over procedure/planning Ontwikkelaars (3FTE) Medewerker Beheer informatie & Systemen Bovenkant formulier Ben je de primaire contactpersoon voor deze aanvraag? Nee Primaire contactpersoon Smit, Novita (novita.smit@amsterdam.nl) Primaire contactpersoon functienaam Primaire contactpersoon telefoon Budgethouder roepnaam Budgethouder tussenvoegsel Budgethouder achternaam Budgethouder e-mailadres Dienen er nog meer collega's op de hoogte te worden gehouden of toegang te hebben tot deze aanvraag? Ja Secundaire contactpersoon 1 Smit, Novita (novita.smit@amsterdam.nl) Secundaire contactpersoon 2 De directie-directeur, stadsdeelsecretaris of B&O-directeur akkoord   Ja Naam directie-directeur, stadsdeelsecretaris of B&O-directeur   Liesbeth Pot Heeft de business controller positief advies gegeven? Ja Advies business controller Heeft de P&O-adviseur positief advies gegeven? Ja Advies van P&O-adviseur We vertrouwen erop dat de financieen goed komen.  Xanne Cook - 19-05-2021 Onderkant formulier \n"
     ]
    }
   ],
   "source": [
    "for i in repl:\n",
    "    Example_text = Example_text.replace(i, \"\")\n",
    "\n",
    "print(Example_text, end=\"\\n\")"
   ]
  },
  {
   "cell_type": "code",
   "execution_count": 4,
   "metadata": {},
   "outputs": [
    {
     "data": {
      "text/html": [
       "<div>\n",
       "<style scoped>\n",
       "    .dataframe tbody tr th:only-of-type {\n",
       "        vertical-align: middle;\n",
       "    }\n",
       "\n",
       "    .dataframe tbody tr th {\n",
       "        vertical-align: top;\n",
       "    }\n",
       "\n",
       "    .dataframe thead th {\n",
       "        text-align: right;\n",
       "    }\n",
       "</style>\n",
       "<table border=\"1\" class=\"dataframe\">\n",
       "  <thead>\n",
       "    <tr style=\"text-align: right;\">\n",
       "      <th></th>\n",
       "      <th>id</th>\n",
       "      <th>salary_unit_name</th>\n",
       "      <th>job_title</th>\n",
       "      <th>body</th>\n",
       "      <th>salary_min</th>\n",
       "      <th>salary_max</th>\n",
       "      <th>working_hours</th>\n",
       "    </tr>\n",
       "  </thead>\n",
       "  <tbody>\n",
       "    <tr>\n",
       "      <th>0</th>\n",
       "      <td>193</td>\n",
       "      <td>Uur</td>\n",
       "      <td>Medewerker Beheer informatie &amp; Systemen</td>\n",
       "      <td>Werktitel *\\nFront-end ontwikkelaar senior\\nPu...</td>\n",
       "      <td>NaN</td>\n",
       "      <td>100.0</td>\n",
       "      <td>32.0</td>\n",
       "    </tr>\n",
       "    <tr>\n",
       "      <th>1</th>\n",
       "      <td>194</td>\n",
       "      <td>None</td>\n",
       "      <td>Medewerker Beleidsrealisatie D</td>\n",
       "      <td>Medewerker Beleidsrealisatie D (11)\\nSchaal\\n1...</td>\n",
       "      <td>NaN</td>\n",
       "      <td>NaN</td>\n",
       "      <td>16.0</td>\n",
       "    </tr>\n",
       "    <tr>\n",
       "      <th>2</th>\n",
       "      <td>2</td>\n",
       "      <td>Maand</td>\n",
       "      <td>Recruiter bij MedWay</td>\n",
       "      <td>Nijkerk\\n32 - 40\\n1-3 jaar ervaring\\nTijdelijk...</td>\n",
       "      <td>3000.0</td>\n",
       "      <td>4000.0</td>\n",
       "      <td>40.0</td>\n",
       "    </tr>\n",
       "    <tr>\n",
       "      <th>3</th>\n",
       "      <td>192</td>\n",
       "      <td>Maand</td>\n",
       "      <td>Medewerker 1e lijn support MBO</td>\n",
       "      <td>2e plaatsing datum was op 7 maart (vacaturenum...</td>\n",
       "      <td>2127.0</td>\n",
       "      <td>3114.0</td>\n",
       "      <td>32.0</td>\n",
       "    </tr>\n",
       "    <tr>\n",
       "      <th>4</th>\n",
       "      <td>195</td>\n",
       "      <td>Maand</td>\n",
       "      <td>Medewerker Beleidsrealisatie F en G - 20090231</td>\n",
       "      <td>Medewerker Beleidsrealisatie F en G\\nAls Back-...</td>\n",
       "      <td>2973.0</td>\n",
       "      <td>5872.0</td>\n",
       "      <td>36.0</td>\n",
       "    </tr>\n",
       "    <tr>\n",
       "      <th>...</th>\n",
       "      <td>...</td>\n",
       "      <td>...</td>\n",
       "      <td>...</td>\n",
       "      <td>...</td>\n",
       "      <td>...</td>\n",
       "      <td>...</td>\n",
       "      <td>...</td>\n",
       "    </tr>\n",
       "    <tr>\n",
       "      <th>1140</th>\n",
       "      <td>782</td>\n",
       "      <td>None</td>\n",
       "      <td>junior hr adviseur</td>\n",
       "      <td>De consulent voor deze advertentie is Patricia...</td>\n",
       "      <td>NaN</td>\n",
       "      <td>NaN</td>\n",
       "      <td>NaN</td>\n",
       "    </tr>\n",
       "    <tr>\n",
       "      <th>1141</th>\n",
       "      <td>788</td>\n",
       "      <td>None</td>\n",
       "      <td>medewerker salarisadministrateur junior</td>\n",
       "      <td>Medewerker Salarisadministrateur Junior m/v\\n\\...</td>\n",
       "      <td>NaN</td>\n",
       "      <td>NaN</td>\n",
       "      <td>NaN</td>\n",
       "    </tr>\n",
       "    <tr>\n",
       "      <th>1142</th>\n",
       "      <td>792</td>\n",
       "      <td>None</td>\n",
       "      <td>junior assistent accountant rousch financial p...</td>\n",
       "      <td>Rousch Financial Professionals \\n\\n   Bedrijfs...</td>\n",
       "      <td>NaN</td>\n",
       "      <td>NaN</td>\n",
       "      <td>NaN</td>\n",
       "    </tr>\n",
       "    <tr>\n",
       "      <th>1143</th>\n",
       "      <td>798</td>\n",
       "      <td>None</td>\n",
       "      <td>administrateur (junior)</td>\n",
       "      <td>Bedrijfsnaam      Avance Eindhoven\\n   Standpl...</td>\n",
       "      <td>NaN</td>\n",
       "      <td>NaN</td>\n",
       "      <td>NaN</td>\n",
       "    </tr>\n",
       "    <tr>\n",
       "      <th>1144</th>\n",
       "      <td>807</td>\n",
       "      <td>None</td>\n",
       "      <td>junior taxateur</td>\n",
       "      <td>Junior taxateur\\n\\n   Bedrijfsnaam:\\n   Unique...</td>\n",
       "      <td>NaN</td>\n",
       "      <td>NaN</td>\n",
       "      <td>NaN</td>\n",
       "    </tr>\n",
       "  </tbody>\n",
       "</table>\n",
       "<p>1145 rows × 7 columns</p>\n",
       "</div>"
      ],
      "text/plain": [
       "       id salary_unit_name                                          job_title  \\\n",
       "0     193              Uur            Medewerker Beheer informatie & Systemen   \n",
       "1     194             None                     Medewerker Beleidsrealisatie D   \n",
       "2       2            Maand                               Recruiter bij MedWay   \n",
       "3     192            Maand                     Medewerker 1e lijn support MBO   \n",
       "4     195            Maand     Medewerker Beleidsrealisatie F en G - 20090231   \n",
       "...   ...              ...                                                ...   \n",
       "1140  782             None                                 junior hr adviseur   \n",
       "1141  788             None            medewerker salarisadministrateur junior   \n",
       "1142  792             None  junior assistent accountant rousch financial p...   \n",
       "1143  798             None                            administrateur (junior)   \n",
       "1144  807             None                                    junior taxateur   \n",
       "\n",
       "                                                   body  salary_min  \\\n",
       "0     Werktitel *\\nFront-end ontwikkelaar senior\\nPu...         NaN   \n",
       "1     Medewerker Beleidsrealisatie D (11)\\nSchaal\\n1...         NaN   \n",
       "2     Nijkerk\\n32 - 40\\n1-3 jaar ervaring\\nTijdelijk...      3000.0   \n",
       "3     2e plaatsing datum was op 7 maart (vacaturenum...      2127.0   \n",
       "4     Medewerker Beleidsrealisatie F en G\\nAls Back-...      2973.0   \n",
       "...                                                 ...         ...   \n",
       "1140  De consulent voor deze advertentie is Patricia...         NaN   \n",
       "1141  Medewerker Salarisadministrateur Junior m/v\\n\\...         NaN   \n",
       "1142  Rousch Financial Professionals \\n\\n   Bedrijfs...         NaN   \n",
       "1143  Bedrijfsnaam      Avance Eindhoven\\n   Standpl...         NaN   \n",
       "1144  Junior taxateur\\n\\n   Bedrijfsnaam:\\n   Unique...         NaN   \n",
       "\n",
       "      salary_max  working_hours  \n",
       "0          100.0           32.0  \n",
       "1            NaN           16.0  \n",
       "2         4000.0           40.0  \n",
       "3         3114.0           32.0  \n",
       "4         5872.0           36.0  \n",
       "...          ...            ...  \n",
       "1140         NaN            NaN  \n",
       "1141         NaN            NaN  \n",
       "1142         NaN            NaN  \n",
       "1143         NaN            NaN  \n",
       "1144         NaN            NaN  \n",
       "\n",
       "[1145 rows x 7 columns]"
      ]
     },
     "execution_count": 4,
     "metadata": {},
     "output_type": "execute_result"
    }
   ],
   "source": [
    "# import data\n",
    "with open(\"../data/vacancies_large.json\") as f:\n",
    "    vacancies = json.load(f)\n",
    "\n",
    "# convert to pd df\n",
    "vacancies = pd.json_normalize(vacancies)\n",
    "vacancies"
   ]
  },
  {
   "cell_type": "code",
   "execution_count": 14,
   "metadata": {},
   "outputs": [
    {
     "name": "stdout",
     "output_type": "stream",
     "text": [
      "Senior Geo-Adviseur Basis- en Kernregistraties\n",
      "Amsterdam wordt steeds meer data gedreven en er is een groeiende vraag naar de ontsluiting van de basis- en kernregistraties in de stad. De basis- en kernregistraties zijn de Masterdata van Amsterdam. De data die overal in de stad voor nagenoeg alle processen worden gebruikt. Als senior geo adviseur basis- en kernregistraties zorg jij ervoor met jouw expertise over de geo registraties zoals de Basisregistratie Adressen en Gebouwen (BAG), de BGT (Basisregistratie Grootschalige Topografie) dat deze basis- en kernregistraties gaan werken voor de stad.\n",
      "Vacaturenummer\n",
      "10007537\n",
      "Soort dienstverband\n",
      "Tijdelijke baan\n",
      "Uren per week\n",
      "32- 36 (2 fte)\n",
      "Werk-/denkniveau\n",
      "Hbo\n",
      "Vakgebied\n",
      "IT / data\n",
      "Salaris\n",
      "Max.\n",
      "Plaatsingsdatum\n",
      "23-03-2021\n",
      "Plaatsingsdatum\n",
      "04-04-2021\n",
      "De functie\n",
      "Jij bedient de stedelijke opgaven met de basis- en kernregistraties, je weet wat er speelt bij afnemers en helpt ze op weg als ze een vraag hebben over de ontsluiting van die data. Daarbij maak je onderdeel uit van het I-domein. Als Amsterdam willen we toewerken naar één punt, een data-functie die de data voor de stad ontsluit. Vanuit de Basis- en kernregistraties draag je hieraan bij. We vragen iemand met veel expertise over de geo registraties, een goede pen, een juridische achtergrond, handig met applicaties en met kennis en liefde voor de essentiële data in de stad; de basis- en kernregistraties. Tevens ben je in staat om te vertalen hoe de basis- en kernregistraties kunnen bijdragen aan de opgaven in de stad. Ook ben je bereid Amsterdam te vertegenwoordigen in landelijke netwerken en programma’s en de landelijke eisen en veranderingen weer door te vertalen naar Amsterdam.\n",
      "Wij vragen\n",
      "Minimaal afgeronde Bsc. opleiding (HBO of WO), bij voorkeur op het raakvlak van geo en informatiekunde zoals GEO informatie-science;\n",
      "Ruimere ervaring met de toepassing van de geo basis- en kernregistratie;\n",
      "Affiniteit met data;\n",
      "Goede communicatieve vaardigheden, zowel mondeling als schriftelijk;\n",
      "Helicopterview;\n",
      "Verbindende factor / netwerker.\n",
      "Competenties\n",
      "Omgevingsbewustzijn (expert);\n",
      "Samenwerken (expert);\n",
      "Relatiebeheer (expert);\n",
      "Analytisch vermogen (expert);\n",
      "Resultaatgerichtheid (expert);\n",
      "Overtuigingskracht (expert).\n",
      "Wij bieden\n",
      "Een arbeidsovereenkomst voor de duur van 1 jaar.\n",
      "Je salaris is minimaal € 3.561,- en maximaal € 5.169,- bruto per maand (salarisschaal 11) op basis van 36 uren per week.\n",
      "Werken in een diverse stad met goede bereikbare locaties in Amsterdam en de kans je te blijven ontwikkelen.\n",
      "Een goed pakket secundaire arbeidsvoorwaarden, o.a. opname in het ABP-pensioenfonds, een maandelijkse bijdrage in de ziektekostenverzekering  en een Individueel Keuzebudget van 17,05% van jouw jaarsalaris. Je kunt dit inzetten om bijvoorbeeld extra verlofuren te kopen. Voor een overzicht van alle overige arbeidsvoorwaarden, .\n",
      "De organisatie\n",
      "De directie Basisinformatie wordt gevormd door 125 mannen en vrouwen die samen voor onze stad de basis- en kernregistraties beheren en verstrekken. Zo beschikt de stad over gegevens van onder meer personen, bedrijven, adressen, gebouwen en topografie die nodig zijn bij de uitvoering van meer dan 90% van de gemeentelijke taken. Het professionele en betrokken team kent een grote mate van senioriteit waardoor zij over veel ervaring en kennis beschikken. De borrels en uitjes die zij samen organiseren zijn altijd geslaagd.\n",
      "Sollicitatieprocedure\n",
      "Heb je belangstelling voor deze functie? Reageer dan uiterlijk 4 april 2021 via de sollicitatiebutton.We willen een diverse en inclusieve organisatie zijn, die ruimte biedt aan iedereen. Diversiteit is een kracht die we gebruiken om betere resultaten te halen voor de stad. We streven naar een personeelsbestand dat een afspiegeling is van de beroepsbevolking van Amsterdam, met alle verschillen. Onze vacatures staan open voor iedereen, tenzij in de tekst iets anders staat.Wil je weten hoe het is om bij ons te werken? Bekijk dan de verhalen van onze medewerkers. Acquisitie stellen we niet op prijs.\n",
      "\n",
      "#LI-POST\n",
      "Vragen over deze vacature\n",
      "Vragen over de vacature kun je stellen aan Betty Feenstra, Manager AGM / Product Owner Data Organisatie, via b.feenstra@amsterdam.nl of 06 41 51 72 60.\n",
      "\n",
      "\n"
     ]
    }
   ],
   "source": [
    "print(vacancies[\"body\"].loc[66])"
   ]
  },
  {
   "cell_type": "code",
   "execution_count": 7,
   "metadata": {},
   "outputs": [],
   "source": [
    "# check single vacancy\n",
    "vacancy0 = vacancies[\"body\"].loc[0]\n",
    "# select first 5 rows\n",
    "vacancies5 = vacancies.head(5)"
   ]
  },
  {
   "cell_type": "markdown",
   "metadata": {},
   "source": [
    "#### Regex\n",
    "To comment out multiple lines, use ctrl+K and ctrl+C"
   ]
  },
  {
   "cell_type": "code",
   "execution_count": 10,
   "metadata": {},
   "outputs": [
    {
     "name": "stdout",
     "output_type": "stream",
     "text": [
      "valid email\n"
     ]
    }
   ],
   "source": [
    "# example verify user input email\n",
    "pattern = '[a-zA-Z0-9]+@[a-zA-Z]+\\.(com|edu|net)'\n",
    "user_input = input()\n",
    "if(re.search(pattern, user_input)):\n",
    "    print('valid email')\n",
    "else:\n",
    "    print('invalid email')"
   ]
  },
  {
   "cell_type": "code",
   "execution_count": 83,
   "metadata": {},
   "outputs": [],
   "source": [
    "#l2 = [elem.replace('\\n','') for elem in list_of_lists]\n",
    "# a_file = open(\"../data/flexible_orange_v2.txt\", \"r\")\n",
    "# newlines=[]\n",
    "# for line in a_file:\n",
    "#     line = re.sub('\\n', '', line)\n",
    "#     newlines.append(line)\n",
    "\n",
    "#print(newlines) "
   ]
  },
  {
   "cell_type": "code",
   "execution_count": null,
   "metadata": {},
   "outputs": [],
   "source": [
    "# correct function\n",
    "# Make a regex list from the data\n",
    "flexible_orange = open(\"../data/flexible_orange_v2.txt\", \"r\")\n",
    "\n",
    "list_of_regex = []\n",
    "for line in flexible_orange:\n",
    "  line = re.sub('\\n', '', line)\n",
    "  line = re.compile(line)\n",
    "  list_of_regex.append(line)\n",
    "\n",
    "flexible_orange.close()\n",
    "\n",
    "print(list_of_regex)"
   ]
  },
  {
   "cell_type": "code",
   "execution_count": null,
   "metadata": {},
   "outputs": [],
   "source": [
    "# a_file = open(\"../data/flexible_orange_v2.txt\", \"r\")\n",
    "\n",
    "# list_of_lists = []\n",
    "# for line in a_file:\n",
    "#   line = re.compile(line)\n",
    "#   list_of_lists.append(line)\n",
    "#   print(line)\n",
    "\n",
    "# a_file.close()\n",
    "\n",
    "# print(list_of_lists)"
   ]
  },
  {
   "cell_type": "code",
   "execution_count": null,
   "metadata": {},
   "outputs": [],
   "source": [
    "# f = open('../data/flexible_orange_v2.txt', 'r')\n",
    "# content = f.read()\n",
    "# print(content)\n",
    "# f.close"
   ]
  },
  {
   "cell_type": "code",
   "execution_count": 32,
   "metadata": {},
   "outputs": [
    {
     "name": "stdout",
     "output_type": "stream",
     "text": [
      "True\n"
     ]
    }
   ],
   "source": [
    "# Check for one pattern\n",
    "pattern = '(?P<prestr>.*)(?P<relstr>\\sbijverdienen\\s+.{0,30}naast\\s+((je|jouw|uw)\\s+)?(school|studie))(?P<poststr>.*)'\n",
    "vacancy_sample = 'Ben jij student? Wil je wat bijverdienen naast je studie ? Kom dan bij ons werken en meld je aan. Maakt niet uit of je nog op school zit'\n",
    "\n",
    "x = re.search(pattern, vacancy_sample)\n",
    "if x:\n",
    "    print('True')\n",
    "else:\n",
    "    print('false')"
   ]
  },
  {
   "cell_type": "code",
   "execution_count": 4,
   "metadata": {},
   "outputs": [],
   "source": [
    "# try multiple\n",
    "pattern1 = '(?P<prestr>.*)(?P<relstr>\\sbijverdienen\\s+.{0,30}naast\\s+((je|jouw|uw)\\s+)?(school|studie))(?P<poststr>.*)'\n",
    "pattern2 = '(?P<prestr>.*)(?P<relstr>\\sbijbaan\\s+.{0,30}na\\s+schooltijd)(?P<poststr>.*)'\n",
    "pattern3 = '(?P<prestr>.*)(?P<relstr>vacature\\s+voor\\s+(een\\s+)?.{0,30}starte(r|rs|nd|nde|nden)\\s+)(?P<poststr>.*)'\n",
    "\n",
    "pattern_list = [pattern1, pattern2, pattern3]\n",
    "\n",
    "temp_list = ['student', 'bijverdienen', 'school']\n",
    "\n",
    "vacancy_sample = 'Ben jij student? Wil je wat bijverdienen naast je studie ? Kom dan bij ons werken en meld je aan. Maakt niet uit of je nog op school zit'\n",
    "\n",
    "found_regex_list = []\n",
    "\n",
    "for x in pattern_list:\n",
    "    if re.findall(x, vacancy_sample):\n",
    "        some_list = re.findall(x, vacancy_sample)\n",
    "        for y in some_list:\n",
    "            found_regex_list.append(y)"
   ]
  },
  {
   "cell_type": "code",
   "execution_count": 3,
   "metadata": {},
   "outputs": [
    {
     "name": "stdout",
     "output_type": "stream",
     "text": [
      "ben jij student \u001b[41m\u001b[37mwil je wat bijverdienen naast je studie \u001b[0m kom dan bij ons werken en meld je aan  maakt niet uit of je nog op school zit\n"
     ]
    }
   ],
   "source": [
    "# Using one pattern\n",
    "from termcolor import colored\n",
    "import re\n",
    "pattern1 = '(?P<prestr>.*)(?P<relstr>\\sbijverdienen\\s+.{0,30}naast\\s+((je|jouw|uw)\\s+)?(school|studie))(?P<poststr>.*)'\n",
    "\n",
    "temp_list = ['student', 'bijverdienen', 'school']\n",
    "seperators = \"\\? |\\.\"\n",
    "\n",
    "vacancy_sample = 'Ben jij student? Wil je wat bijverdienen naast je studie ? Kom dan bij ons werken en meld je aan. Maakt niet uit of je nog op school zit'\n",
    "list = []\n",
    "for w in re.split(seperators, vacancy_sample.lower()):\n",
    "    x = re.search(pattern1, w)\n",
    "    if x:\n",
    "        list.append(colored(w,'white','on_red'))\n",
    "    else:\n",
    "        list.append(w)\n",
    "print(\" \".join(list))"
   ]
  },
  {
   "cell_type": "code",
   "execution_count": 90,
   "metadata": {},
   "outputs": [
    {
     "name": "stdout",
     "output_type": "stream",
     "text": [
      "\u001b[41m\u001b[37mben jij student\u001b[0m \u001b[41m\u001b[37mwil je wat bijverdienen naast je studie \u001b[0m  kom dan bij ons werken en meld je aan   maakt niet uit of je nog op school zit \u001b[41m\u001b[37m dit is voor een bijbaan na schooltijd\u001b[0m   je krijgt een normaal salaris\n"
     ]
    }
   ],
   "source": [
    "# Now using pattern_list\n",
    "import re\n",
    "pattern1 = '(?P<prestr>.*)(?P<relstr>\\sbijverdienen\\s+.{0,30}naast\\s+((je|jouw|uw)\\s+)?(school|studie))(?P<poststr>.*)'\n",
    "pattern2 = '(?P<prestr>.*)(?P<relstr>\\sbijbaan\\s+.{0,30}na\\s+schooltijd)(?P<poststr>.*)'\n",
    "pattern3 = '(?P<prestr>.*)(?P<relstr>vacature\\s+voor\\s+(een\\s+)?.{0,30}starte(r|rs|nd|nde|nden)\\s+)(?P<poststr>.*)'\n",
    "\n",
    "pattern_list = [re.compile(pattern1), re.compile(pattern2), re.compile(pattern3)]\n",
    "pattern_list2 = [pattern1, pattern2, pattern3]\n",
    "\n",
    "#temp_list = ['student', 'bijverdienen', 'school']\n",
    "seperators = \"\\? |\\.\"\n",
    "\n",
    "vacancy_sample = 'Ben jij student? Wil je wat bijverdienen naast je studie ? Kom dan bij ons werken en meld je aan. Maakt niet uit of je nog op school zit. Dit is voor een bijbaan na schooltijd. Je krijgt een normaal salaris'\n",
    "list = []\n",
    "for w in re.split(seperators, vacancy_sample.lower()):\n",
    "    if any(regex.match(w) for regex in list_of_regex):\n",
    "        list.append(colored(w,'white','on_red'))\n",
    "    else:\n",
    "        list.append(\" \" + w)\n",
    "\n",
    "print(\" \".join(list))"
   ]
  },
  {
   "cell_type": "code",
   "execution_count": 24,
   "metadata": {},
   "outputs": [
    {
     "name": "stdout",
     "output_type": "stream",
     "text": [
      "11ben jij student 11ben jij student 11ben jij student \u001b[41m\u001b[37mwil je wat bijverdienen naast je studie \u001b[0m wil je wat bijverdienen naast je studie  wil je wat bijverdienen naast je studie  kom dan bij ons werken en meld je aan kom dan bij ons werken en meld je aan kom dan bij ons werken en meld je aan  maakt niet uit of je nog op school zit  maakt niet uit of je nog op school zit  maakt niet uit of je nog op school zit  dit is voor een bijbaan na schooltijd \u001b[41m\u001b[37m dit is voor een bijbaan na schooltijd\u001b[0m  dit is voor een bijbaan na schooltijd  je krijgt een normaal salaris ouwe gek  je krijgt een normaal salaris ouwe gek  je krijgt een normaal salaris ouwe gek\n"
     ]
    }
   ],
   "source": [
    "list=[]\n",
    "for w in re.split(seperators, vacancy_sample.lower()):\n",
    "    for v in pattern_list:\n",
    "        if re.search(v, w):\n",
    "            list.append(colored(w,'white','on_red'))\n",
    "        else:\n",
    "            list.append(w)\n",
    "print(\" \".join(list))"
   ]
  },
  {
   "cell_type": "code",
   "execution_count": 28,
   "metadata": {},
   "outputs": [
    {
     "name": "stdout",
     "output_type": "stream",
     "text": [
      "11ben jij student 11ben jij student 11ben jij student \u001b[41m\u001b[37mwil je wat bijverdienen naast je studie \u001b[0m wil je wat bijverdienen naast je studie  wil je wat bijverdienen naast je studie  kom dan bij ons werken en meld je aan kom dan bij ons werken en meld je aan kom dan bij ons werken en meld je aan  maakt niet uit of je nog op school zit  maakt niet uit of je nog op school zit  maakt niet uit of je nog op school zit  dit is voor een bijbaan na schooltijd \u001b[41m\u001b[37m dit is voor een bijbaan na schooltijd\u001b[0m  dit is voor een bijbaan na schooltijd  je krijgt een normaal salaris ouwe gek  je krijgt een normaal salaris ouwe gek  je krijgt een normaal salaris ouwe gek\n"
     ]
    }
   ],
   "source": [
    "list = []\n",
    "for zinsdeel in re.split(seperators, vacancy_sample.lower()):\n",
    "    for pattern in pattern_list:\n",
    "        if re.search(pattern, zinsdeel):\n",
    "            list.append(colored(zinsdeel,'white','on_red'))\n",
    "        else:\n",
    "            list.append(zinsdeel)\n",
    "\n",
    "print(\" \".join(list))"
   ]
  },
  {
   "cell_type": "markdown",
   "metadata": {},
   "source": [
    "#### How to highlight multiple regex patterns in text using nested loop in Python?\n",
    "I have a list of regex patterns and a sample text. I want to highlight the regex pattern in the text. I think it almost works, but the text is printing three times while I want it to print one time. And the program only highlights one pattern per line. I want to highlight multiple patterns on one print statement.\n",
    "\n",
    "How do I adjust my program to print only one time and highlight the regex patterns from the list?\n",
    "\n",
    "I tried to switch the for loops, but then it prints the sentence part (w) three times instead of one time.\n",
    "\n",
    "I also tried to change the regex search into \"if x in pattern_list: do append color\", but then the highlight does not work. I believe I have to loop over the pattern_list"
   ]
  },
  {
   "cell_type": "code",
   "execution_count": 40,
   "metadata": {},
   "outputs": [
    {
     "name": "stdout",
     "output_type": "stream",
     "text": [
      "ben jij student \u001b[41m\u001b[37mwil je wat bijverdienen naast je studie \u001b[0m kom dan bij ons werken en meld je aan  maakt niet uit of je nog op school zit  dit is voor een bijbaan na schooltijd  je krijgt een normaal salaris  ben jij student wil je wat bijverdienen naast je studie  kom dan bij ons werken en meld je aan  maakt niet uit of je nog op school zit \u001b[41m\u001b[37m dit is voor een bijbaan na schooltijd\u001b[0m  je krijgt een normaal salaris  ben jij student wil je wat bijverdienen naast je studie  kom dan bij ons werken en meld je aan  maakt niet uit of je nog op school zit  dit is voor een bijbaan na schooltijd  je krijgt een normaal salaris \n"
     ]
    }
   ],
   "source": [
    "import re\n",
    "from termcolor import colored\n",
    "\n",
    "# patterns\n",
    "pattern1 = '(?P<prestr>.*)(?P<relstr>\\sbijverdienen\\s+.{0,30}naast\\s+((je|jouw|uw)\\s+)?(school|studie))(?P<poststr>.*)'\n",
    "pattern2 = '(?P<prestr>.*)(?P<relstr>\\sbijbaan\\s+.{0,30}na\\s+schooltijd)(?P<poststr>.*)'\n",
    "pattern3 = '(?P<prestr>.*)(?P<relstr>vacature\\s+voor\\s+(een\\s+)?.{0,30}starte(r|rs|nd|nde|nden)\\s+)(?P<poststr>.*)'\n",
    "\n",
    "pattern_list = [pattern1, pattern2, pattern3]\n",
    "\n",
    "seperators = \"\\? |\\.\"\n",
    "\n",
    "text_sample = 'Ben jij student? Wil je wat bijverdienen naast je studie ? Kom dan bij ons werken en meld je aan. Maakt niet uit of je nog op school zit. Dit is voor een bijbaan na schooltijd. Je krijgt een normaal salaris.'\n",
    "\n",
    "list = []\n",
    "\n",
    "for v in pattern_list:\n",
    "    for w in re.split(seperators, text_sample.lower()):\n",
    "        x = re.search(v, w)\n",
    "        if x:\n",
    "            list.append(colored(w,'white','on_red'))\n",
    "        else:\n",
    "            list.append(w)\n",
    "            \n",
    "print(\" \".join(list))"
   ]
  },
  {
   "cell_type": "code",
   "execution_count": 39,
   "metadata": {},
   "outputs": [
    {
     "name": "stdout",
     "output_type": "stream",
     "text": [
      "ben jij student \u001b[41m\u001b[37mwil je wat bijverdienen naast je studie\u001b[0m kom dan bij ons werken en meld je aan maakt niet uit of je nog op school zit \u001b[41m\u001b[37mdit is voor een bijbaan na schooltijd\u001b[0mje krijgt een normaal salaris\n"
     ]
    }
   ],
   "source": [
    "print('ben jij student '+ colored('wil je wat bijverdienen naast je studie','white','on_red' ) +' kom dan bij ons werken en meld je aan maakt niet uit of je nog op school zit ' + colored('dit is voor een bijbaan na schooltijd','white','on_red')+ 'je krijgt een normaal salaris')"
   ]
  },
  {
   "cell_type": "code",
   "execution_count": 35,
   "metadata": {},
   "outputs": [
    {
     "name": "stdout",
     "output_type": "stream",
     "text": [
      "ben jij student wil je wat bijverdienen naast je studie  kom dan bij ons werken en meld je aan  maakt niet uit of je nog op school zit  dit is voor een bijbaan na schooltijd  je krijgt een normaal salaris \n"
     ]
    }
   ],
   "source": [
    "import re\n",
    "from termcolor import colored\n",
    "\n",
    "# patterns\n",
    "pattern1 = '(?P<prestr>.*)(?P<relstr>\\sbijverdienen\\s+.{0,30}naast\\s+((je|jouw|uw)\\s+)?(school|studie))(?P<poststr>.*)'\n",
    "pattern2 = '(?P<prestr>.*)(?P<relstr>\\sbijbaan\\s+.{0,30}na\\s+schooltijd)(?P<poststr>.*)'\n",
    "pattern3 = '(?P<prestr>.*)(?P<relstr>vacature\\s+voor\\s+(een\\s+)?.{0,30}starte(r|rs|nd|nde|nden)\\s+)(?P<poststr>.*)'\n",
    "\n",
    "pattern_list = [pattern1, pattern2, pattern3]\n",
    "\n",
    "seperators = \"\\? |\\.\"\n",
    "\n",
    "text_sample = 'Ben jij student? Wil je wat bijverdienen naast je studie ? Kom dan bij ons werken en meld je aan. Maakt niet uit of je nog op school zit. Dit is voor een bijbaan na schooltijd. Je krijgt een normaal salaris.'\n",
    "\n",
    "list = []\n",
    "\n",
    "for w in re.split(seperators, text_sample.lower()):\n",
    "    #x = re.search(pattern_list, w)\n",
    "    if x in pattern_list:\n",
    "        list.append(colored(w,'white','on_red'))\n",
    "    else:\n",
    "        list.append(w)\n",
    "            \n",
    "print(\" \".join(list))"
   ]
  },
  {
   "cell_type": "code",
   "execution_count": 14,
   "metadata": {},
   "outputs": [],
   "source": [
    "# sample function, from the original regex file\n",
    "def analyze_file_per_sentence(filename, count_dict, pattern_dicts):\n",
    "\n",
    "    values = {}\n",
    "    text = ''\n",
    "    analyze_next = True\n",
    "    for line in open(filename, 'r'):\n",
    "        newline = line\n",
    "        for key in sorted(pattern_dicts.keys()):\n",
    "            if analyze_next:\n",
    "                pd = pattern_dicts.get(key)\n",
    "                for classname, pdict in pd.items():\n",
    "                    for k in pdict.keys():\n",
    "                        if k in line.lower():\n",
    "                            for v in pdict.get(k):\n",
    "                                if re.match(v, line.lower()):\n",
    "                                    rx = re.compile(v)\n",
    "                                    newline = re.sub(rx, r'\\g<prestr><span><b>\\g<relstr></b></span>\\g<poststr>', newline.lower())\n",
    "                                    mycount_dict = count_dict.get(classname)\n",
    "                                    if not '_vanaf18ofjonger' in k:\n",
    "                                        mycount_dict[k] += 1\n",
    "                                    values[classname] = None\n",
    "                                    analyze_next = False\n",
    "                                    if '<agestr>' in v:\n",
    "                                        ages = obtain_age(v, line.lower())\n",
    "                                        if '_vanaf18ofjonger' in k and int(age) < 19:\n",
    "                                            mycount_dict[k] += 1\n",
    "            else:\n",
    "                break\n",
    "        text += newline\n",
    "\n",
    "    for key in values:\n",
    "        values[key] = text\n",
    "    return values"
   ]
  }
 ],
 "metadata": {
  "interpreter": {
   "hash": "b0fa6594d8f4cbf19f97940f81e996739fb7646882a419484c72d19e05852a7e"
  },
  "kernelspec": {
   "display_name": "Python 3.9.7 64-bit",
   "language": "python",
   "name": "python3"
  },
  "language_info": {
   "codemirror_mode": {
    "name": "ipython",
    "version": 3
   },
   "file_extension": ".py",
   "mimetype": "text/x-python",
   "name": "python",
   "nbconvert_exporter": "python",
   "pygments_lexer": "ipython3",
   "version": "3.9.7"
  },
  "orig_nbformat": 4
 },
 "nbformat": 4,
 "nbformat_minor": 2
}
