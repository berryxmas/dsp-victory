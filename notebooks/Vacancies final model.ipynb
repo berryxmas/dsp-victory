{
 "cells": [
  {
   "cell_type": "code",
   "execution_count": 1,
   "id": "e78efeed",
   "metadata": {},
   "outputs": [],
   "source": [
    "import numpy as np\n",
    "import pandas as pd\n",
    "import matplotlib.pyplot as plt\n",
    "import json\n",
    "import re\n",
    "import string\n",
    "import nltk\n",
    "from nltk import word_tokenize\n",
    "from nltk.corpus import stopwords\n",
    "from nltk.stem import PorterStemmer\n",
    "from nltk.probability import FreqDist\n",
    "from nltk.stem import WordNetLemmatizer\n",
    "import nltk.corpus"
   ]
  },
  {
   "cell_type": "code",
   "execution_count": null,
   "id": "5af7f897",
   "metadata": {},
   "outputs": [],
   "source": [
    "#Windows\n",
    "vacancies = pd.read_json(r'C:\\Users\\nonta\\Dropbox\\My PC (LAPTOP-VMKUGGQ6)\\Desktop\\Master-DS\\DSP\\vacancies_large.json')"
   ]
  },
  {
   "cell_type": "code",
   "execution_count": 2,
   "id": "083a6d50",
   "metadata": {},
   "outputs": [],
   "source": [
    "#Mac\n",
    "vacancies = pd.read_json(r'/Users/nalevizos/Desktop/DSP/vacancies_large.json')"
   ]
  },
  {
   "cell_type": "code",
   "execution_count": 3,
   "id": "a06b0045",
   "metadata": {},
   "outputs": [],
   "source": [
    "vacancies = pd.read_json(r'C:\\Users\\flori\\Documents\\Git\\dsp-victory\\data\\vacancies_large.json') "
   ]
  },
  {
   "cell_type": "markdown",
   "id": "51677c09",
   "metadata": {},
   "source": [
    "#### Preprocessing"
   ]
  },
  {
   "cell_type": "code",
   "execution_count": 4,
   "id": "1b51285c",
   "metadata": {},
   "outputs": [],
   "source": [
    "## Lower case\n",
    "vacancies[\"body\"] = vacancies[\"body\"].apply(lambda x: \" \".join(x.lower()for x in x.split()))"
   ]
  },
  {
   "cell_type": "markdown",
   "id": "3e2f4a6b",
   "metadata": {},
   "source": [
    "#### Create RegEx list"
   ]
  },
  {
   "cell_type": "code",
   "execution_count": 9,
   "id": "f90af0b3",
   "metadata": {},
   "outputs": [],
   "source": [
    "def regex_list():\n",
    "    flexible_orange = open(r'C:\\Users\\flori\\Documents\\Git\\dsp-victory\\data\\flexible_orange_v2.txt')\n",
    "    list_of_regex = []\n",
    "    for line in flexible_orange:\n",
    "        line = re.sub('\\n', '', line)\n",
    "        line = re.compile(line)\n",
    "        list_of_regex.append(line)\n",
    "\n",
    "    flexible_orange.close()\n",
    "\n",
    "    return list_of_regex"
   ]
  },
  {
   "cell_type": "code",
   "execution_count": 10,
   "id": "a85d79c2",
   "metadata": {},
   "outputs": [
    {
     "data": {
      "text/plain": [
       "[re.compile(r'==bijverdien==', re.UNICODE),\n",
       " re.compile(r'(?P<prestr>.*)(?P<relstr>\\sbijverdienen\\s+.{0,30}naast\\s+((je|jouw|uw)\\s+)?(school|studie))(?P<poststr>.*)',\n",
       " re.UNICODE),\n",
       " re.compile(r'==bijbaan==', re.UNICODE),\n",
       " re.compile(r'(?P<prestr>.*)(?P<relstr>\\sbijbaan\\s+.{0,30}((passen|aanpassen|aangepast|passend|aangepast)\\s+)(aan|bij)\\s+(je\\s+|jouw\\s+|uw\\s+)?.{0,30}(lesrooster))(?P<poststr>.*)',\n",
       " re.UNICODE),\n",
       " re.compile(r'(?P<prestr>.*)(?P<relstr>\\sbijbaan\\s+.{0,30}waar(bij)?\\s+(je\\s+|jij\\s+|u\\s+)?(na|naast)\\s+(je\\s+|jouw\\s+|uw\\s+)?.{0,30}(school|studie|afstuderen))(?P<poststr>.*)',\n",
       " re.UNICODE),\n",
       " re.compile(r'(?P<prestr>.*)(?P<relstr>\\sbijbaan\\s+.{0,30}naast\\s+(je\\s+|jouw\\s+|uw\\s+)?.{0,30}school)(?P<poststr>.*)',\n",
       " re.UNICODE),\n",
       " re.compile(r'(?P<prestr>.*)(?P<relstr>\\sbijbaan\\s+.{0,30}die\\s+(je|jij|u)\\s+(na|naast)\\s+.{0,30}(je\\s+|jouw\\s+|uw\\s+)?.{0,30}(school|studie|afstuderen))(?P<poststr>.*)',\n",
       " re.UNICODE),\n",
       " re.compile(r'(?P<prestr>.*)(?P<relstr>\\sbijbaan\\s+.{0,30}(na|naast)\\s+(je|jouw|uw)\\s+.{0,30}(school|studie|afstuderen))(?P<poststr>.*)',\n",
       " re.UNICODE),\n",
       " re.compile(r'(?P<prestr>.*)(?P<relstr>\\snaast\\s+(je\\s+|jouw\\s+|uw\\s+)?.{0,30}(school|studie|afstuderen)\\s+.*een\\s+bijbaan)(?P<poststr>.*)',\n",
       " re.UNICODE),\n",
       " re.compile(r'(?P<prestr>.*)(?P<relstr>\\sbijbaan\\s+.{0,30}na\\s+schooltijd)(?P<poststr>.*)',\n",
       " re.UNICODE),\n",
       " re.compile(r'==starte==', re.UNICODE),\n",
       " re.compile(r'(?P<prestr>.*)(?P<relstr>ben(t)?\\s+(jij|je|u)\\s+.{0,30}starte(r|rs|nd|nde|nden)\\s+)(?P<poststr>.*)',\n",
       " re.UNICODE),\n",
       " re.compile(r'(?P<prestr>.*)(?P<relstr>(jij|je|u)\\s+ben(t)?\\s+.{0,30}(een\\s+)?starte(r|rs|nd|nde|nden)\\s+)(?P<poststr>.*)',\n",
       " re.UNICODE),\n",
       " re.compile(r'(?P<prestr>.*)(?P<relstr>w(ij|e)\\s+zoeken\\s+.{0,30}(een\\s+)?starte(r|rs|nd|nde|nden)\\s+)(?P<poststr>.*)',\n",
       " re.UNICODE),\n",
       " re.compile(r'(?P<prestr>.*)(?P<relstr>w(ij|e)\\s+zoeken\\s+.{0,30}start.{0,30}\\b)(?P<poststr>.*)',\n",
       " re.UNICODE),\n",
       " re.compile(r'(?P<prestr>.*)(?P<relstr>zoeken\\s+w(ij|e)\\s+(een\\s+)?.{0,30}starte(r|rs|nd|nde|nden)\\s+)(?P<poststr>.*)',\n",
       " re.UNICODE),\n",
       " re.compile(r'(?P<prestr>.*)(?P<relstr>w(ij|e)\\s+zijn\\s+op\\s+zoek\\s+naar\\s+.{0,30}(een\\s+)?starte(r|rs|nd|nde|nden)\\s+)(?P<poststr>.*)',\n",
       " re.UNICODE),\n",
       " re.compile(r'(?P<prestr>.*)(?P<relstr>zijn\\s+w(ij|e)\\s+op\\s+zoek\\s+naar\\s+.{0,30}(een\\s+)?starte(r|rs|nd|nde|nden)\\s+)(?P<poststr>.*)',\n",
       " re.UNICODE),\n",
       " re.compile(r'(?P<prestr>.*)(?P<relstr>vacature\\s+voor\\s+(een\\s+)?.{0,30}starte(r|rs|nd|nde|nden)\\s+)(?P<poststr>.*)',\n",
       " re.UNICODE),\n",
       " re.compile(r'(?P<prestr>.*)(?P<relstr>als\\s+.{0,30}starte(r|rs|nd|nde|nden)\\s+.{0,40}(ben|kan|kunt|krijg|bent|krijgt)\\s+(jij|je|u)\\s+)(?P<poststr>.*)',\n",
       " re.UNICODE),\n",
       " re.compile(r'(?P<prestr>.*)(?P<relstr>(jij|je|u)\\s+(ben|kan|kunt|krijg|bent|krijgt)\\s+als\\s+.{0,30}starte(r|rs|nd|nde|nden)\\s+)(?P<poststr>.*)',\n",
       " re.UNICODE),\n",
       " re.compile(r'(?P<prestr>.*)(?P<relstr>(ben|kan|kunt|krijg|bent|krijgt)\\s+(jij|je|u)\\s+als\\s+.{0,30}starte(r|rs|nd|nde|nden)\\s+)(?P<poststr>.*)',\n",
       " re.UNICODE),\n",
       " re.compile(r'(?P<prestr>.*)(?P<relstr>onze\\s+voorkeur\\s+(gaat\\s+)?uit\\s+naar\\s+(een\\s)?.{0,30}starte(r|rs|nd|nde|nden)\\s+)(?P<poststr>.*)',\n",
       " re.UNICODE),\n",
       " re.compile(r'==ervaring==', re.UNICODE),\n",
       " re.compile(r'(?P<prestr>.*)(?P<relstr>(heb|heeft|beschikt|beschik)\\s+(u|jij|je)\\s+(over\\s)?.{0,30}(max\\.|maximaal|tot)\\s+\\d\\s+jaar\\s+(werk)?.{0,30}ervaring)(?P<poststr>.*)',\n",
       " re.UNICODE),\n",
       " re.compile(r'(?P<prestr>.*)(?P<relstr>(u|jij|je)\\s+(hebt|heeft|beschikt|beschik)\\s+(over\\s)?.{0,30}(max\\.|maximaal|tot)\\s+\\d\\s+jaar\\s+(werk)?.{0,30}ervaring)(?P<poststr>.*)',\n",
       " re.UNICODE),\n",
       " re.compile(r'(?P<prestr>.*)(?P<relstr>(heb|heeft|beschikt|beschik)\\s+(u|jij|je)\\s+(over\\s)?.{0,30}max\\.\\s+\\d\\s+jaar\\s+(werk)?.{0,30}ervaring)(?P<poststr>.*)',\n",
       " re.UNICODE),\n",
       " re.compile(r'==stap==', re.UNICODE),\n",
       " re.compile(r'(?P<prestr>.*)(?P<relstr>(eerste|tweede)\\s+stap\\s+in\\s+.{0,30}(je|uw|jouw)\\s+(carriere|carriÃ¨re|loopbaan))(?P<poststr>.*)',\n",
       " re.UNICODE),\n",
       " re.compile(r'(?P<prestr>.*)(?P<relstr>(jij|je|u)\\s+.{0,30}(de|je|jouw|uw)\\s+eerste\\s+stap(pen)?\\s+zet(ten)?)(?P<poststr>.*)',\n",
       " re.UNICODE),\n",
       " re.compile(r'==start==', re.UNICODE),\n",
       " re.compile(r'(?P<prestr>.*)(?P<relstr>(jouw|je|uw)\\s+(carriere|carriÃ¨re|loopbaan)\\s+.{0,30}te\\s+starten\\s+)(?P<poststr>.*)',\n",
       " re.UNICODE),\n",
       " re.compile(r'(?P<prestr>.*)(?P<relstr>(biedt|bieden)\\s+(je|jou|u)\\s+.{0,30}een\\s+start\\s+)(?P<poststr>.*)',\n",
       " re.UNICODE),\n",
       " re.compile(r'(?P<prestr>.*)(?P<relstr>(wil|wilt)\\s+(jij|je|u)\\s+.{0,30}(je|uw|jouw)\\s+(carriere|carriÃ¨re|loopbaan)\\s+.*starten\\s+)(?P<poststr>.*)',\n",
       " re.UNICODE),\n",
       " re.compile(r'==lesrooster==', re.UNICODE),\n",
       " re.compile(r'(?P<prestr>.*)(?P<relstr>(passen|past)\\s+.{0,30}bij\\s+(je|jouw|uw)\\s+lesrooster)(?P<poststr>.*)',\n",
       " re.UNICODE),\n",
       " re.compile(r'==baan==', re.UNICODE),\n",
       " re.compile(r'(?P<prestr>.*)(?P<relstr>(je|jouw|uw)\\s+eerste\\s+.{0,30}baan)(?P<poststr>.*)',\n",
       " re.UNICODE),\n",
       " re.compile(r'==stud==', re.UNICODE),\n",
       " re.compile(r'(?P<prestr>.*)(?P<relstr>(tijdens|naast|gedurende)\\s+(je|jouw|uw)\\s+.{0,30}(studie)\\s+)(?P<poststr>.*)',\n",
       " re.UNICODE),\n",
       " re.compile(r'(?P<prestr>.*)(?P<relstr>tijdens\\s+je\\s+.{0,30}studie)(?P<poststr>.*)',\n",
       " re.UNICODE),\n",
       " re.compile(r'(?P<prestr>.*)(?P<relstr>(je|jij|u)\\s+bent\\s+(een\\s+)?.{0,30}student)(?P<poststr>.*)',\n",
       " re.UNICODE),\n",
       " re.compile(r'(?P<prestr>.*)(?P<relstr>(je|jij|u)\\s+bent\\s+(een\\s+)?.{0,30}net\\s+(afgestudeerde|afgestudeerd)\\s)(?P<poststr>.*)',\n",
       " re.UNICODE),\n",
       " re.compile(r'(?P<prestr>.*)(?P<relstr>ben(t)?\\s+(je|jij|u)\\s+(een\\s+)?.{0,30}student)(?P<poststr>.*)',\n",
       " re.UNICODE),\n",
       " re.compile(r'(?P<prestr>.*)(?P<relstr>als\\s+.{0,30}student\\s+ben(t)?\\s+(je|jij|u))(?P<poststr>.*)',\n",
       " re.UNICODE),\n",
       " re.compile(r'(?P<prestr>.*)(?P<relstr>(pas|net|onlangs|zojuist)\\s+afgestudeerd)(?P<poststr>.*)',\n",
       " re.UNICODE),\n",
       " re.compile(r'(?P<prestr>.*)(?P<relstr>(pas|net|onlangs|zojuist)\\s+afgestudeerd[a-z]*\\w\\s+)(?P<poststr>.*)',\n",
       " re.UNICODE),\n",
       " re.compile(r'(?P<prestr>.*)(?P<relstr>(je|jij|u)\\s+bent\\s+.{0,30}(pas|net|onlangs|zojuist)\\s+afgestudeerd)(?P<poststr>.*)',\n",
       " re.UNICODE),\n",
       " re.compile(r'(?P<prestr>.*)(?P<relstr>w(ij|e)[\\s]*zoeken[\\s]*(een\\s)?.{0,30}student(en)?)(?P<poststr>.*)',\n",
       " re.UNICODE),\n",
       " re.compile(r'(?P<prestr>.*)(?P<relstr>w(ij|e)\\s+zijn\\s+op\\s+zoek\\s+naar\\s+(een\\s+)?.{0,30}student(en)?)(?P<poststr>.*)',\n",
       " re.UNICODE),\n",
       " re.compile(r'(?P<prestr>.*)(?P<relstr>zoeken\\s+w(ij|e)\\s+(een\\s)?.{0,30}student(en)?\\s)(?P<poststr>.*)',\n",
       " re.UNICODE),\n",
       " re.compile(r'(?P<prestr>.*)(?P<relstr>zijn\\s+w(ij|e)\\s+op\\s+zoek\\s+naar\\s+.{0,30}(een\\s+)?student)(?P<poststr>.*)',\n",
       " re.UNICODE),\n",
       " re.compile(r'(?P<prestr>.*)(?P<relstr>onze\\s+voorkeur\\s+.{0,30}(gaat\\s+)?uit\\s+naar\\s+(een\\s)?.{0,30}student)(?P<poststr>.*)',\n",
       " re.UNICODE),\n",
       " re.compile(r'(?P<prestr>.*)(?P<relstr>ben(t)?\\s+(je|jij|u)\\s+)(?P<agestr>\\d\\d\\s+jaar\\s+of\\s+(een\\s+)?.{0,30}student)(?P<poststr>.*)',\n",
       " re.UNICODE),\n",
       " re.compile(r'(?P<prestr>.*)(?P<relstr>(je|jij|u)\\s+ben(t)?\\s+)(?P<agestr>\\d\\d\\s+jaar\\s+of\\s+(een\\s+)?.{0,30}student)(?P<poststr>.*)',\n",
       " re.UNICODE),\n",
       " re.compile(r'(?P<prestr>.*)(?P<relstr>onze\\s+studente\\s+medewerkers)(?P<poststr>.*)',\n",
       " re.UNICODE),\n",
       " re.compile(r'(?P<prestr>.*)(?P<relstr>onze\\s+medewerkers\\s+zijn\\s+.{0,30}student(en)?)(?P<poststr>.*)',\n",
       " re.UNICODE),\n",
       " re.compile(r'(?P<prestr>.*)(?P<relstr>onze\\s+medewerkers\\s+zijn\\s+.{0,30}student)(?P<poststr>.*)',\n",
       " re.UNICODE),\n",
       " re.compile(r'(?P<prestr>.*)(?P<relstr>vacature\\s+voor\\s+(een\\s+)?.{0,30}student)(?P<poststr>.*)',\n",
       " re.UNICODE),\n",
       " re.compile(r'==opleiding==', re.UNICODE),\n",
       " re.compile(r'(?P<prestr>.*)(?P<relstr>(tijdens|naast|gedurende)\\s+(je|jouw|uw)\\s+.{0,30}(opleiding)\\s+)(?P<poststr>.*)',\n",
       " re.UNICODE),\n",
       " re.compile(r'(?P<prestr>.*)(?P<relstr>\\s(je|jij|u)\\s+volgt\\s+een\\s+.{0,30}opleiding\\s+)(?P<poststr>.*)',\n",
       " re.UNICODE),\n",
       " re.compile(r'(?P<prestr>.*)(?P<relstr>bent\\s+bezig\\s+met\\s+.{0,30}opleiding\\s+)(?P<poststr>.*)',\n",
       " re.UNICODE),\n",
       " re.compile(r'==jong_groep_passen==', re.UNICODE),\n",
       " re.compile(r'(?P<prestr>.*)(?P<relstr>\\spas(\\s+je|\\s+jij|t\\s+u)\\s+in\\s+(een|ons|onze)\\s+.{0,30}jong(e?.{0,30}\\s+team|.{0,30}\\s+bedrijf|e.{0,30}\\s+groep))(?P<poststr>.*)',\n",
       " re.UNICODE),\n",
       " re.compile(r'(?P<prestr>.*)(?P<relstr>\\s(je|jij|u)\\s+past\\s+in\\s+(een|ons|onze)\\s+.{0,30}jong(e?\\s+.{0,30}team|\\s+.{0,30}bedrijf|e\\s+.{0,30}groep))(?P<poststr>.*)',\n",
       " re.UNICODE),\n",
       " re.compile(r'(?P<prestr>.*)(?P<relstr>\\s(je|jij|u)\\s+in\\s+(een|ons|onze)\\s+.{0,30}jong(e?\\s+.{0,30}team|\\s+.{0,30}bedrijf|e\\s+.{0,30}groep)\\s+past)(?P<poststr>.*)',\n",
       " re.UNICODE),\n",
       " re.compile(r'==jong_deel_uit_maken==', re.UNICODE),\n",
       " re.compile(r'(?P<prestr>.*)(?P<relstr>\\smaak(\\s+je|\\s+jij|t\\s+u)\\s+deel\\s+uit\\s+van\\s+(een|ons|onze)\\s+.{0,30}jong(e?.{0,30}\\s+team|.{0,30}\\s+bedrijf|e.{0,30}\\s+groep))(?P<poststr>.*)',\n",
       " re.UNICODE),\n",
       " re.compile(r'(?P<prestr>.*)(?P<relstr>\\s(je|jij|u)\\s+maakt\\s+deel\\s+uit\\s+van\\s+(een|ons|onze)\\s+.{0,30}jong(e?\\s+.{0,30}team|\\s+.{0,30}bedrijf|e\\s+.{0,30}groep))(?P<poststr>.*)',\n",
       " re.UNICODE),\n",
       " re.compile(r'(?P<prestr>.*)(?P<relstr>\\s(je|jij|u)\\s+deel\\s+uitmaakt\\s+van\\s+(een|ons|onze)\\s+.{0,30}jong(e?\\s+.{0,30}team|\\s+.{0,30}bedrijf|e\\s+.{0,30}groep))(?P<poststr>.*)',\n",
       " re.UNICODE),\n",
       " re.compile(r'(?P<prestr>.*)(?P<relstr>\\s(je|jij|u)\\s+van\\s+(een|ons|onze)\\s+.{0,30}jong(e?\\s+.{0,30}team|\\s+.{0,30}bedrijf|e\\s+.{0,30}groep)\\s+deel\\s+uitmaakt)(?P<poststr>.*)',\n",
       " re.UNICODE),\n",
       " re.compile(r'(?P<prestr>.*)(?P<relstr>\\sga(\\s+je|\\s+jij|at\\s+u)\\s+deel\\s+uitmaken\\s+van\\s+(een|ons|onze).{0,30}\\s+jong(e?\\s+.{0,30}team|\\s+.{0,30}bedrijf|e\\s+.{0,30}groep))(?P<poststr>.*)',\n",
       " re.UNICODE),\n",
       " re.compile(r'(?P<prestr>.*)(?P<relstr>\\s(je|jij|u)\\s+(gaat\\s+deel\\s+uitmaken|deel\\s+gaat\\s+uitmaken|deel\\s+uit\\s+gaat\\s+maken)\\s+van\\s+(een|ons|onze)\\s+.{0,30}jong(e?\\s+.{0,30}team|\\s+.{0,30}bedrijf|e\\s+.{0,30}groep))(?P<poststr>.*)',\n",
       " re.UNICODE),\n",
       " re.compile(r'(?P<prestr>.*)(?P<relstr>\\sga(\\s+je|\\s+jij|at\\s+u)\\s+van\\s+(een|ons|onze)\\s+.{0,30}jong(e?\\s+.{0,30}team|\\s+.{0,30}bedrijf|e\\s+.{0,30}groep)\\s+deel\\s+uitmaken)(?P<poststr>.*)',\n",
       " re.UNICODE),\n",
       " re.compile(r'(?P<prestr>.*)(?P<relstr>\\swil(\\s+je|\\s+jij|t\\s+u)\\s+deel\\s+uitmaken\\s+van\\s+(een|ons|onze)\\s+.{0,30}jong(e?\\s+.{0,30}team|\\s+.{0,30}bedrijf|e\\s+.{0,30}groep))(?P<poststr>.*)',\n",
       " re.UNICODE),\n",
       " re.compile(r'(?P<prestr>.*)(?P<relstr>\\s(je|jij|u)\\s+(wil|wilt)\\s+deel\\s+uitmaken\\s+van\\s+(een|ons|onze)\\s+.{0,30}jong(e?\\s+.{0,30}team|\\s+.{0,30}bedrijf|e\\s+.{0,30}groep))(?P<poststr>.*)',\n",
       " re.UNICODE),\n",
       " re.compile(r'(?P<prestr>.*)(?P<relstr>\\s(je|jij|u)\\s+deel\\s+(wil|wilt|gaat)\\s+uitmaken\\s+van\\s+(een|ons|onze)\\s+.{0,30}jong(e?\\s+.{0,30}team|\\s+.{0,30}bedrijf|e\\s+.{0,30}groep))(?P<poststr>.*)',\n",
       " re.UNICODE),\n",
       " re.compile(r'(?P<prestr>.*)(?P<relstr>\\swil(\\s+je|\\s+jij|t\\s+u)\\s+van\\s+(een|ons|onze)\\s+.{0,30}jong(e?\\s+.{0,30}team|\\s+.{0,30}bedrijf|e\\s+.{0,30}groep)\\s+deel\\s+uitmaken)(?P<poststr>.*)',\n",
       " re.UNICODE),\n",
       " re.compile(r'(?P<prestr>.*)(?P<relstr>\\s(je|jij|u)\\s+(wil|wilt|gaat)\\s+van\\s+(een|ons|onze)\\s+.{0,30}jong(e?\\s+.{0,30}team|\\s+.{0,30}bedrijf|e\\s+.{0,30}groep)\\s+deel\\s+uitmaken)(?P<poststr>.*)',\n",
       " re.UNICODE),\n",
       " re.compile(r'(?P<prestr>.*)(?P<relstr>\\s(je|jij|u)\\s+van\\s+(een|ons|onze)\\s+.{0,30}jong(e?\\s+.{0,30}team|\\s+.{0,30}bedrijf|e\\s+.{0,30}groep)\\s+deel\\s+(wil|wilt|gaat)\\s+uitmaken)(?P<poststr>.*)',\n",
       " re.UNICODE),\n",
       " re.compile(r'(?P<prestr>.*)(?P<relstr>\\s(je|jij|u)\\s+van\\s+(een|ons|onze)\\s+.{0,30}jong(e?\\s+.{0,30}team|\\s+.{0,30}bedrijf|e\\s+.{0,30}groep)\\s+deel\\s+uit\\s+(wil|wilt|gaat)\\s+maken)(?P<poststr>.*)',\n",
       " re.UNICODE),\n",
       " re.compile(r'==jong_groep_versterken==', re.UNICODE),\n",
       " re.compile(r'(?P<prestr>.*)(?P<relstr>(kom|wil)(\\s+je|\\s+jij|t\\s+u)\\s+(een|ons|onze)\\s+.{0,30}jong(e?\\s+.{0,30}team|e\\s+.{0,30}groep)\\s+versterken)(?P<poststr>.*)',\n",
       " re.UNICODE),\n",
       " re.compile(r'(?P<prestr>.*)(?P<relstr>ga(\\s+je|\\s+jij|at\\s+u)\\s+(een|ons|onze)\\s+.{0,30}jong(e?\\s+.{0,30}team|e\\s+.{0,30}groep)\\s+versterken)(?P<poststr>.*)',\n",
       " re.UNICODE),\n",
       " re.compile(r'(?P<prestr>.*)(?P<relstr>versterk(\\s+je|\\s+jij|t\\s+u)\\s+(een|ons|onze).{0,30}\\s+jong(e?\\s+.{0,30}team|e\\s+.{0,30}groep))(?P<poststr>.*)',\n",
       " re.UNICODE),\n",
       " re.compile(r'(?P<prestr>.*)(?P<relstr>(\\s+je|\\s+jij|t\\s+u)\\s+(komt|gaat|wil|wilt)\\s+(een|ons|onze)\\s+.{0,30}jong(e?\\s+.{0,30}team|e\\s+.{0,30}groep)\\s+versterken)(?P<poststr>.*)',\n",
       " re.UNICODE),\n",
       " re.compile(r'(?P<prestr>.*)(?P<relstr>(\\s+je|\\s+jij|t\\s+u)\\s+(een|ons|onze)\\s+.{0,30}jong(e?\\s+.{0,30}team|e\\s+.{0,30}groep)\\s+versterken\\s+(komt|gaat|wil|wilt))(?P<poststr>.*)',\n",
       " re.UNICODE),\n",
       " re.compile(r'(?P<prestr>.*)(?P<relstr>(\\s+je|\\s+jij|t\\s+u)\\s+(een|ons|onze)\\s+.{0,30}jong(e?\\s+.{0,30}team|e\\s+.{0,30}groep)\\s+(komt|gaat|wil|wilt)\\s+versterken)(?P<poststr>.*)',\n",
       " re.UNICODE)]"
      ]
     },
     "execution_count": 10,
     "metadata": {},
     "output_type": "execute_result"
    }
   ],
   "source": [
    "list_of_regex = regex_list()\n",
    "list_of_regex"
   ]
  },
  {
   "cell_type": "markdown",
   "id": "9d5f1008",
   "metadata": {},
   "source": [
    "#### Create labels for discriminative vacancies"
   ]
  },
  {
   "cell_type": "code",
   "execution_count": 11,
   "id": "4c140c99",
   "metadata": {},
   "outputs": [],
   "source": [
    "vacancies['target'] = 0"
   ]
  },
  {
   "cell_type": "code",
   "execution_count": 12,
   "id": "5136f040",
   "metadata": {},
   "outputs": [
    {
     "name": "stderr",
     "output_type": "stream",
     "text": [
      "C:\\Users\\flori\\Anaconda3\\lib\\site-packages\\pandas\\core\\indexing.py:190: SettingWithCopyWarning: \n",
      "A value is trying to be set on a copy of a slice from a DataFrame\n",
      "\n",
      "See the caveats in the documentation: http://pandas.pydata.org/pandas-docs/stable/indexing.html#indexing-view-versus-copy\n",
      "  self._setitem_with_indexer(indexer, value)\n"
     ]
    }
   ],
   "source": [
    "seperators = \"\\? |\\. |\\, |\\* |\\-\"\n",
    "\n",
    "for index,value in vacancies['body'].iteritems():\n",
    "    for w in re.split(seperators, vacancies['body'].iloc[index]):\n",
    "        if any(regex.match(w) for regex in list_of_regex):\n",
    "            vacancies['target'].iloc[index] = 1"
   ]
  },
  {
   "cell_type": "code",
   "execution_count": 13,
   "id": "1de5f4e0",
   "metadata": {},
   "outputs": [
    {
     "data": {
      "text/plain": [
       "47"
      ]
     },
     "execution_count": 13,
     "metadata": {},
     "output_type": "execute_result"
    }
   ],
   "source": [
    "len(vacancies[vacancies['target']==1])"
   ]
  },
  {
   "cell_type": "code",
   "execution_count": 14,
   "id": "bc4b07a5",
   "metadata": {},
   "outputs": [],
   "source": [
    "train_cts = vacancies.groupby(\"target\").size()"
   ]
  },
  {
   "cell_type": "code",
   "execution_count": 15,
   "id": "37cdef38",
   "metadata": {},
   "outputs": [
    {
     "data": {
      "text/plain": [
       "Text(0, 0.5, 'Counts')"
      ]
     },
     "execution_count": 15,
     "metadata": {},
     "output_type": "execute_result"
    },
    {
     "data": {
      "image/png": "[encoded data removed]",
      "text/plain": [
       "<Figure size 576x360 with 1 Axes>"
      ]
     },
     "metadata": {
      "needs_background": "light"
     },
     "output_type": "display_data"
    }
   ],
   "source": [
    "#plot the size of the classes\n",
    "f, ax1 = plt.subplots(figsize=(8,5), sharey=True)\n",
    "train_cts.plot(kind='bar',ax= ax1,rot=0)\n",
    "ax1.set_title('Train Set')\n",
    "ax1.set_ylabel(\"Counts\")"
   ]
  },
  {
   "cell_type": "markdown",
   "id": "89792d19",
   "metadata": {},
   "source": [
    "#### Naive Bayes model (Grid-Search)"
   ]
  },
  {
   "cell_type": "code",
   "execution_count": 16,
   "id": "e5f50f39",
   "metadata": {},
   "outputs": [],
   "source": [
    "from sklearn.naive_bayes import MultinomialNB\n",
    "from sklearn.model_selection import train_test_split\n",
    "from sklearn.pipeline import Pipeline\n",
    "from sklearn.feature_extraction.text import TfidfTransformer\n",
    "from sklearn.feature_extraction.text import CountVectorizer"
   ]
  },
  {
   "cell_type": "code",
   "execution_count": 20,
   "id": "d9b5af48",
   "metadata": {},
   "outputs": [
    {
     "data": {
      "text/plain": [
       "{'clf__alpha': 1e-06, 'tfidf__use_idf': True, 'vect__ngram_range': (1, 1)}"
      ]
     },
     "execution_count": 20,
     "metadata": {},
     "output_type": "execute_result"
    }
   ],
   "source": [
    "from sklearn.model_selection import GridSearchCV\n",
    "param_grid = {'vect__ngram_range': [(1, 1), (1, 2), (1,3),(2,2)],\n",
    "              'clf__alpha': [0.000001, 0.00001, 0.0001, 0.001, 0.01, 0.1, 1.0],\n",
    "              'tfidf__use_idf': [True, False]}\n",
    "\n",
    "text_clf = Pipeline([\n",
    "    ('vect', CountVectorizer()),\n",
    "    ('tfidf', TfidfTransformer()),\n",
    "    ('clf', MultinomialNB(alpha=1))])\n",
    "\n",
    "X = vacancies['body']\n",
    "y = vacancies['target']\n",
    "X_train , X_test, y_train, y_test = train_test_split(X,y,test_size=0.3, random_state=20, stratify=y)\n",
    "\n",
    "grid = GridSearchCV(text_clf, param_grid, cv=5)\n",
    "\n",
    "grid.fit(X_train, y_train);\n",
    "\n",
    "grid.best_params_"
   ]
  },
  {
   "cell_type": "code",
   "execution_count": 19,
   "id": "64627284",
   "metadata": {},
   "outputs": [
    {
     "data": {
      "text/plain": [
       "0.9563953488372093"
      ]
     },
     "execution_count": 19,
     "metadata": {},
     "output_type": "execute_result"
    }
   ],
   "source": [
    "predicted_best = grid.predict(X_test)\n",
    "np.mean(predicted_best == y_test)"
   ]
  },
  {
   "cell_type": "markdown",
   "id": "d71cd3c1",
   "metadata": {},
   "source": [
    "##### Imbalanced metrics"
   ]
  },
  {
   "cell_type": "code",
   "execution_count": 20,
   "id": "c4d4f56e",
   "metadata": {},
   "outputs": [],
   "source": [
    "from imblearn.pipeline import make_pipeline as make_pipeline_imb\n",
    "from imblearn.metrics import classification_report_imbalanced\n",
    "from imblearn.pipeline       import Pipeline \n",
    "from sklearn.model_selection import cross_validate\n",
    "from imblearn.over_sampling  import RandomOverSampler\n",
    "import numpy as np\n",
    "from sklearn.metrics import precision_score\n",
    "from sklearn.metrics import classification_report"
   ]
  },
  {
   "cell_type": "code",
   "execution_count": 22,
   "id": "8e44aa0d",
   "metadata": {},
   "outputs": [
    {
     "name": "stdout",
     "output_type": "stream",
     "text": [
      "                   pre       rec       spe        f1       geo       iba       sup\n",
      "\n",
      "          0       0.96      1.00      0.00      0.98      0.00      0.00       330\n",
      "          1       0.00      0.00      1.00      0.00      0.00      0.00        14\n",
      "\n",
      "avg / total       0.92      0.96      0.04      0.94      0.00      0.00       344\n",
      "\n"
     ]
    }
   ],
   "source": [
    "from imblearn.metrics import classification_report_imbalanced\n",
    "\n",
    "print(classification_report_imbalanced(y_test, predicted_best))"
   ]
  },
  {
   "cell_type": "code",
   "execution_count": 23,
   "id": "dc554a98",
   "metadata": {},
   "outputs": [
    {
     "name": "stdout",
     "output_type": "stream",
     "text": [
      "balanced_accuracy 0.4984848484848485\n"
     ]
    }
   ],
   "source": [
    "from sklearn.metrics import balanced_accuracy_score\n",
    "\n",
    "print(\"balanced_accuracy\", balanced_accuracy_score(y_test, \n",
    "                                                   predicted_best))"
   ]
  },
  {
   "cell_type": "code",
   "execution_count": 24,
   "id": "f0ebcc34",
   "metadata": {},
   "outputs": [
    {
     "name": "stdout",
     "output_type": "stream",
     "text": [
      "weighted f1 score: 0.9379211444763121\n"
     ]
    }
   ],
   "source": [
    "from sklearn.metrics import f1_score\n",
    "\n",
    "print(\"weighted f1 score:\", f1_score(y_test, \n",
    "                                     predicted_best, \n",
    "                                     average=\"weighted\"))"
   ]
  },
  {
   "cell_type": "markdown",
   "id": "09426100",
   "metadata": {},
   "source": [
    "##### Using Oversampling for Imbalanced data"
   ]
  },
  {
   "cell_type": "code",
   "execution_count": 35,
   "id": "bcd2d66b",
   "metadata": {},
   "outputs": [
    {
     "name": "stderr",
     "output_type": "stream",
     "text": [
      "/Users/nalevizos/opt/anaconda3/lib/python3.9/site-packages/imblearn/utils/_validation.py:586: FutureWarning: Pass sampling_strategy=minority as keyword args. From version 0.9 passing these as positional arguments will result in an error\n",
      "  warnings.warn(\n"
     ]
    }
   ],
   "source": [
    "nb_pipe2  = Pipeline([('vect',    CountVectorizer()),\n",
    "                     ('tfidf',   TfidfTransformer()),\n",
    "                     ('sampler', RandomOverSampler('minority',random_state=42)),\n",
    "                     ('model',   MultinomialNB(alpha=1))])"
   ]
  },
  {
   "cell_type": "code",
   "execution_count": 26,
   "id": "ad31ec55",
   "metadata": {},
   "outputs": [],
   "source": [
    "def evaluate_model(\n",
    "    X_train : pd.DataFrame,\n",
    "    y_train : pd.DataFrame,\n",
    "    X_test  : pd.DataFrame,\n",
    "    y_test  : pd.DataFrame,\n",
    "    pipe    : Pipeline,\n",
    ") -> None:\n",
    "\n",
    "    model = pipe.fit(X_train, \n",
    "                     y_train)\n",
    "\n",
    "\n",
    "    pred  = model.predict(X_test)\n",
    "\n",
    "    print(classification_report(y_test,\n",
    "                                pred))\n",
    "    \n",
    "    print()\n",
    "    print(\"balanced_accuracy\", balanced_accuracy_score(y_test, \n",
    "                                                       pred))"
   ]
  },
  {
   "cell_type": "code",
   "execution_count": 30,
   "id": "0ac99e0c",
   "metadata": {},
   "outputs": [],
   "source": [
    "from functools import partial\n",
    "\n",
    "X = vacancies['body']\n",
    "y = vacancies['target']\n",
    "X_train , X_test, y_train, y_test = train_test_split(X,y,test_size=0.3, random_state=20, stratify=y)\n",
    "\n",
    "evaluate_pipeline = partial(evaluate_model,\n",
    "                            X_train,\n",
    "                            y_train,\n",
    "                            X_test,\n",
    "                            y_test,)"
   ]
  },
  {
   "cell_type": "code",
   "execution_count": 36,
   "id": "728cb5aa",
   "metadata": {},
   "outputs": [
    {
     "name": "stdout",
     "output_type": "stream",
     "text": [
      "              precision    recall  f1-score   support\n",
      "\n",
      "           0       0.98      0.86      0.92       330\n",
      "           1       0.13      0.50      0.21        14\n",
      "\n",
      "    accuracy                           0.85       344\n",
      "   macro avg       0.56      0.68      0.56       344\n",
      "weighted avg       0.94      0.85      0.89       344\n",
      "\n",
      "\n",
      "balanced_accuracy 0.6818181818181819\n"
     ]
    }
   ],
   "source": [
    "evaluate_pipeline(nb_pipe2)"
   ]
  },
  {
   "cell_type": "markdown",
   "id": "a96742cc",
   "metadata": {},
   "source": [
    "#### Try for one random sample"
   ]
  },
  {
   "cell_type": "code",
   "execution_count": 48,
   "id": "91d9bf99",
   "metadata": {},
   "outputs": [],
   "source": [
    "imb_model = nb_pipe2.fit(X_train, \n",
    "                     y_train)\n",
    "\n",
    "vacancy_sample = ['Ben jij student? Wil je wat bijverdienen naast je studie ? Kom dan bij ons werken en meld je aan. Maakt niet uit of je nog op school zit. Dit is voor een bijbaan na schooltijd. Je krijgt een normaal salaris']\n",
    "\n",
    "pred  = imb_model.predict_proba(vacancy_sample)"
   ]
  },
  {
   "cell_type": "code",
   "execution_count": 52,
   "id": "369acb33",
   "metadata": {},
   "outputs": [
    {
     "data": {
      "text/plain": [
       "array([[0.29893562, 0.70106438]])"
      ]
     },
     "execution_count": 52,
     "metadata": {},
     "output_type": "execute_result"
    }
   ],
   "source": [
    "pred"
   ]
  },
  {
   "cell_type": "code",
   "execution_count": null,
   "id": "fec2cb91",
   "metadata": {},
   "outputs": [],
   "source": []
  }
 ],
 "metadata": {
  "kernelspec": {
   "display_name": "Python 3",
   "language": "python",
   "name": "python3"
  },
  "language_info": {
   "codemirror_mode": {
    "name": "ipython",
    "version": 3
   },
   "file_extension": ".py",
   "mimetype": "text/x-python",
   "name": "python",
   "nbconvert_exporter": "python",
   "pygments_lexer": "ipython3",
   "version": "3.6.8"
  }
 },
 "nbformat": 4,
 "nbformat_minor": 5
}
